{
 "cells": [
  {
   "cell_type": "code",
   "execution_count": null,
   "id": "d6fba433",
   "metadata": {},
   "outputs": [],
   "source": [
    "import torch\n",
    "import torch.nn as nn\n",
    "import torch.nn.init as init"
   ]
  },
  {
   "cell_type": "code",
   "execution_count": 5,
   "id": "2fad629d",
   "metadata": {},
   "outputs": [
    {
     "data": {
      "text/plain": [
       "Parameter containing:\n",
       "tensor([[-0.0071,  0.0011, -0.0094, -0.0083,  0.0220,  0.0055,  0.0121, -0.0274,\n",
       "         -0.0056, -0.0093],\n",
       "        [-0.0027, -0.0042, -0.0075,  0.0127, -0.0194, -0.0041,  0.0066, -0.0080,\n",
       "         -0.0075,  0.0181],\n",
       "        [-0.0243, -0.0248,  0.0130, -0.0150,  0.0242, -0.0072,  0.0044,  0.0242,\n",
       "         -0.0279, -0.0008],\n",
       "        [-0.0006, -0.0326,  0.0272,  0.0303,  0.0005, -0.0314,  0.0089, -0.0097,\n",
       "          0.0018, -0.0094],\n",
       "        [-0.0562,  0.0107, -0.0279, -0.0435,  0.0346,  0.0012, -0.0158, -0.0335,\n",
       "          0.0078, -0.0058]], requires_grad=True)"
      ]
     },
     "execution_count": 5,
     "metadata": {},
     "output_type": "execute_result"
    }
   ],
   "source": [
    "embedding_matrix = nn.Parameter(\n",
    "            torch.empty(5, 10, device='cpu', dtype=torch.float32)\n",
    "        )\n",
    "init.trunc_normal_(embedding_matrix, std=0.02)"
   ]
  },
  {
   "cell_type": "code",
   "execution_count": 11,
   "id": "f025cac0",
   "metadata": {},
   "outputs": [
    {
     "data": {
      "text/plain": [
       "torch.Size([2, 3, 10])"
      ]
     },
     "execution_count": 11,
     "metadata": {},
     "output_type": "execute_result"
    }
   ],
   "source": [
    "# Init some token_ids and test embedding_matrix with token_ids\n",
    "token_ids = torch.tensor([[1, 2, 3], [4, 4, 3]])\n",
    "x = embedding_matrix[token_ids]\n",
    "x.shape"
   ]
  },
  {
   "cell_type": "code",
   "execution_count": 12,
   "id": "b3101c91",
   "metadata": {},
   "outputs": [
    {
     "name": "stdout",
     "output_type": "stream",
     "text": [
      "tensor([[0.3415, 0.8973, 0.2834],\n",
      "        [0.1238, 0.7361, 0.4955],\n",
      "        [0.7788, 0.1122, 0.2071]])\n"
     ]
    }
   ],
   "source": [
    "x = torch.rand((3,3))\n",
    "print(x)"
   ]
  },
  {
   "cell_type": "code",
   "execution_count": 13,
   "id": "d1065951",
   "metadata": {},
   "outputs": [
    {
     "data": {
      "text/plain": [
       "tensor(1.2846)"
      ]
     },
     "execution_count": 13,
     "metadata": {},
     "output_type": "execute_result"
    }
   ],
   "source": [
    "torch.einsum(\"ii->\", x)"
   ]
  },
  {
   "cell_type": "code",
   "execution_count": null,
   "id": "6dbde238",
   "metadata": {},
   "outputs": [],
   "source": []
  }
 ],
 "metadata": {
  "kernelspec": {
   "display_name": "Python 3 (ipykernel)",
   "language": "python",
   "name": "python3"
  }
 },
 "nbformat": 4,
 "nbformat_minor": 5
}
